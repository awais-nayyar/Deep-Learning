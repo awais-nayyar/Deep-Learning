{
  "nbformat": 4,
  "nbformat_minor": 0,
  "metadata": {
    "colab": {
      "provenance": []
    },
    "kernelspec": {
      "name": "python3",
      "display_name": "Python 3"
    },
    "language_info": {
      "name": "python"
    }
  },
  "cells": [
    {
      "cell_type": "code",
      "execution_count": 1,
      "metadata": {
        "id": "Woca-E-JruKy"
      },
      "outputs": [],
      "source": [
        "import torch\n",
        "import numpy as np"
      ]
    },
    {
      "cell_type": "code",
      "source": [
        "# Input (temp, rainfall, humidity)\n",
        "inputs = np.array([[73, 67, 43],\n",
        "                   [91, 88, 64],\n",
        "                   [87, 134, 58],\n",
        "                   [102, 43, 37],\n",
        "                   [69, 96, 70]], dtype='float32')"
      ],
      "metadata": {
        "id": "ofaGck8nsBbQ"
      },
      "execution_count": 2,
      "outputs": []
    },
    {
      "cell_type": "code",
      "source": [
        "# Targets (apples, oranges)\n",
        "targets = np.array([[56, 70],\n",
        "                    [81, 101],\n",
        "                    [119, 133],\n",
        "                    [22, 37],\n",
        "                    [103, 119]], dtype='float32')"
      ],
      "metadata": {
        "id": "r12s4LYDsDYn"
      },
      "execution_count": 4,
      "outputs": []
    },
    {
      "cell_type": "code",
      "source": [
        "inputs = torch.from_numpy(inputs)\n",
        "targets = torch.from_numpy(targets)\n",
        "print(inputs)\n",
        "print(targets)"
      ],
      "metadata": {
        "colab": {
          "base_uri": "https://localhost:8080/"
        },
        "id": "IlNASMkasGS3",
        "outputId": "b9e840e8-59a3-41fd-b65a-4d5175be2a8d"
      },
      "execution_count": 5,
      "outputs": [
        {
          "output_type": "stream",
          "name": "stdout",
          "text": [
            "tensor([[ 73.,  67.,  43.],\n",
            "        [ 91.,  88.,  64.],\n",
            "        [ 87., 134.,  58.],\n",
            "        [102.,  43.,  37.],\n",
            "        [ 69.,  96.,  70.]])\n",
            "tensor([[ 56.,  70.],\n",
            "        [ 81., 101.],\n",
            "        [119., 133.],\n",
            "        [ 22.,  37.],\n",
            "        [103., 119.]])\n"
          ]
        }
      ]
    },
    {
      "cell_type": "code",
      "source": [
        "w = torch.randn(2, 3, requires_grad=True) # 2, 3 bcz i have to predict apples and oranges one row of weights for apples and one for oranges\n",
        "b = torch.randn(2, requires_grad=True) # 2  biases one for apples and one for oranges"
      ],
      "metadata": {
        "id": "2CCb8-dgsqI-"
      },
      "execution_count": 6,
      "outputs": []
    },
    {
      "cell_type": "code",
      "source": [
        "def model(input):\n",
        "  preds = input @ w.t() + b\n",
        "  return preds"
      ],
      "metadata": {
        "id": "m38qglmwuiyj"
      },
      "execution_count": 7,
      "outputs": []
    },
    {
      "cell_type": "code",
      "source": [
        "preds = model(inputs)\n",
        "#print(preds)\n",
        "#print(targets)"
      ],
      "metadata": {
        "colab": {
          "base_uri": "https://localhost:8080/"
        },
        "id": "GqXNYGsGu_IG",
        "outputId": "b168ed11-e1e0-4047-e852-210ff26452ff"
      },
      "execution_count": 9,
      "outputs": [
        {
          "output_type": "stream",
          "name": "stdout",
          "text": [
            "tensor([[133.1160, 139.8363],\n",
            "        [171.6099, 179.6326],\n",
            "        [222.9986, 236.0357],\n",
            "        [126.6544, 130.3893],\n",
            "        [164.4378, 173.6293]], grad_fn=<AddBackward0>)\n",
            "tensor([[ 56.,  70.],\n",
            "        [ 81., 101.],\n",
            "        [119., 133.],\n",
            "        [ 22.,  37.],\n",
            "        [103., 119.]])\n"
          ]
        }
      ]
    },
    {
      "cell_type": "code",
      "source": [
        "def mse(pred, target):\n",
        "  diff = pred - target\n",
        "  return torch.sum(diff * diff) / diff.numel()"
      ],
      "metadata": {
        "id": "22AvmgEYvJoE"
      },
      "execution_count": 19,
      "outputs": []
    },
    {
      "cell_type": "code",
      "source": [
        "loss = mse(preds, targets)\n",
        "print(loss)"
      ],
      "metadata": {
        "colab": {
          "base_uri": "https://localhost:8080/"
        },
        "id": "xX42jZJzv6_l",
        "outputId": "3b976b22-ab65-450b-831a-af9c641dc740"
      },
      "execution_count": 20,
      "outputs": [
        {
          "output_type": "stream",
          "name": "stdout",
          "text": [
            "tensor(7308.2373, grad_fn=<DivBackward0>)\n"
          ]
        }
      ]
    },
    {
      "cell_type": "code",
      "source": [
        "loss.backward() #computing gradient of loss"
      ],
      "metadata": {
        "id": "xKOg3mxCxsMC"
      },
      "execution_count": 23,
      "outputs": []
    },
    {
      "cell_type": "code",
      "source": [
        "print(w)\n",
        "print(w.grad)\n",
        "print(b)\n",
        "print(b.grad)"
      ],
      "metadata": {
        "colab": {
          "base_uri": "https://localhost:8080/"
        },
        "id": "_nydRR-sxrvX",
        "outputId": "75188187-56ee-4ceb-f234-50cef4734892"
      },
      "execution_count": 26,
      "outputs": [
        {
          "output_type": "stream",
          "name": "stdout",
          "text": [
            "tensor([[ 0.7566,  1.1831,  0.0014],\n",
            "        [ 0.7349,  1.2872, -0.0221]], requires_grad=True)\n",
            "tensor([[7567.3628, 7494.8857, 4663.9609],\n",
            "        [6902.5713, 6933.1289, 4258.1953]])\n",
            "tensor([-1.4461,  0.8939], requires_grad=True)\n",
            "tensor([87.5634, 79.9047])\n"
          ]
        }
      ]
    },
    {
      "cell_type": "code",
      "source": [
        "w.grad = w.grad * 1e-5       #this is the learning rate which will reduce our gradient weghts it takes smaller steps"
      ],
      "metadata": {
        "id": "lU9yqqqKyCjP"
      },
      "execution_count": 27,
      "outputs": []
    },
    {
      "cell_type": "code",
      "source": [
        "print(w.grad)"
      ],
      "metadata": {
        "colab": {
          "base_uri": "https://localhost:8080/"
        },
        "id": "XrjZwperyCVv",
        "outputId": "accb2825-f901-425c-da77-8a3e86171ca4"
      },
      "execution_count": 28,
      "outputs": [
        {
          "output_type": "stream",
          "name": "stdout",
          "text": [
            "tensor([[0.0757, 0.0749, 0.0466],\n",
            "        [0.0690, 0.0693, 0.0426]])\n"
          ]
        }
      ]
    },
    {
      "cell_type": "code",
      "source": [
        "### Train Gradient Descent to reduce the loss"
      ],
      "metadata": {
        "id": "tsWo1eH9wWeX"
      },
      "execution_count": 22,
      "outputs": []
    },
    {
      "cell_type": "code",
      "source": [
        "for i in range(20): #number of epochs\n",
        "   preds = model(inputs)\n",
        "   loss = mse(preds, targets)\n",
        "   loss.backward() #calculating gradient\n",
        "\n",
        "   with torch.no_grad():  # we are saying torch to not track these computations\n",
        "    w -= w.grad * 1e-5\n",
        "    b -= b.grad * 1e-5\n",
        "\n",
        "    w.grad.zero_() #if i don't assign zero to weights then on next epoch these grads add in new calculated grads\n",
        "    b.grad.zero_()"
      ],
      "metadata": {
        "id": "jV8x8xbIxQXy"
      },
      "execution_count": 75,
      "outputs": []
    },
    {
      "cell_type": "code",
      "source": [
        "# Calculate loss\n",
        "preds = model(inputs)\n",
        "loss = mse(preds, targets)\n",
        "print(loss)"
      ],
      "metadata": {
        "colab": {
          "base_uri": "https://localhost:8080/"
        },
        "id": "ZRNXnPpCz0a6",
        "outputId": "09ae9176-63b1-4adc-ed94-9d999fd3cf5d"
      },
      "execution_count": 76,
      "outputs": [
        {
          "output_type": "stream",
          "name": "stdout",
          "text": [
            "tensor(1.3389, grad_fn=<DivBackward0>)\n"
          ]
        }
      ]
    },
    {
      "cell_type": "code",
      "source": [
        "print(preds)\n",
        "print(targets)"
      ],
      "metadata": {
        "colab": {
          "base_uri": "https://localhost:8080/"
        },
        "id": "hIUM98gJz2IU",
        "outputId": "e5787e09-6da6-48a3-e1f0-aa015df50033"
      },
      "execution_count": 77,
      "outputs": [
        {
          "output_type": "stream",
          "name": "stdout",
          "text": [
            "tensor([[ 56.9893,  70.5418],\n",
            "        [ 81.7942,  99.8736],\n",
            "        [119.9098, 134.3987],\n",
            "        [ 21.4419,  37.4067],\n",
            "        [100.7057, 117.6991]], grad_fn=<AddBackward0>)\n",
            "tensor([[ 56.,  70.],\n",
            "        [ 81., 101.],\n",
            "        [119., 133.],\n",
            "        [ 22.,  37.],\n",
            "        [103., 119.]])\n"
          ]
        }
      ]
    },
    {
      "cell_type": "code",
      "source": [],
      "metadata": {
        "id": "HhaDCrKy1EYG"
      },
      "execution_count": null,
      "outputs": []
    }
  ]
}