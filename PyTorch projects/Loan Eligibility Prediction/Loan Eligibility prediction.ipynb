{
 "cells": [
  {
   "cell_type": "code",
   "execution_count": 351,
   "id": "6a21ecc7",
   "metadata": {},
   "outputs": [],
   "source": [
    "import numpy as np\n",
    "import pandas as pd\n",
    "import torch\n",
    "import seaborn as sns\n",
    "from matplotlib import pyplot as plt\n",
    "import torch.nn as nn  # Import the PyTorch neural network module\n",
    "import torch.optim as optim"
   ]
  },
  {
   "cell_type": "markdown",
   "id": "f4c36bdd",
   "metadata": {},
   "source": [
    "### Reading the Dataset"
   ]
  },
  {
   "cell_type": "code",
   "execution_count": 352,
   "id": "c29a9597",
   "metadata": {
    "scrolled": true
   },
   "outputs": [
    {
     "data": {
      "text/html": [
       "<div>\n",
       "<style scoped>\n",
       "    .dataframe tbody tr th:only-of-type {\n",
       "        vertical-align: middle;\n",
       "    }\n",
       "\n",
       "    .dataframe tbody tr th {\n",
       "        vertical-align: top;\n",
       "    }\n",
       "\n",
       "    .dataframe thead th {\n",
       "        text-align: right;\n",
       "    }\n",
       "</style>\n",
       "<table border=\"1\" class=\"dataframe\">\n",
       "  <thead>\n",
       "    <tr style=\"text-align: right;\">\n",
       "      <th></th>\n",
       "      <th>Gender</th>\n",
       "      <th>Married</th>\n",
       "      <th>Dependents</th>\n",
       "      <th>Education</th>\n",
       "      <th>Self_Employed</th>\n",
       "      <th>ApplicantIncome</th>\n",
       "      <th>CoapplicantIncome</th>\n",
       "      <th>LoanAmount</th>\n",
       "      <th>Loan_Amount_Term</th>\n",
       "      <th>Credit_History</th>\n",
       "      <th>Property_Area</th>\n",
       "      <th>Loan_Status</th>\n",
       "    </tr>\n",
       "  </thead>\n",
       "  <tbody>\n",
       "    <tr>\n",
       "      <th>0</th>\n",
       "      <td>Male</td>\n",
       "      <td>No</td>\n",
       "      <td>0</td>\n",
       "      <td>Graduate</td>\n",
       "      <td>No</td>\n",
       "      <td>5849</td>\n",
       "      <td>0.0</td>\n",
       "      <td>NaN</td>\n",
       "      <td>360.0</td>\n",
       "      <td>1.0</td>\n",
       "      <td>Urban</td>\n",
       "      <td>Y</td>\n",
       "    </tr>\n",
       "    <tr>\n",
       "      <th>1</th>\n",
       "      <td>Male</td>\n",
       "      <td>Yes</td>\n",
       "      <td>1</td>\n",
       "      <td>Graduate</td>\n",
       "      <td>No</td>\n",
       "      <td>4583</td>\n",
       "      <td>1508.0</td>\n",
       "      <td>128.0</td>\n",
       "      <td>360.0</td>\n",
       "      <td>1.0</td>\n",
       "      <td>Rural</td>\n",
       "      <td>N</td>\n",
       "    </tr>\n",
       "    <tr>\n",
       "      <th>2</th>\n",
       "      <td>Male</td>\n",
       "      <td>Yes</td>\n",
       "      <td>0</td>\n",
       "      <td>Graduate</td>\n",
       "      <td>Yes</td>\n",
       "      <td>3000</td>\n",
       "      <td>0.0</td>\n",
       "      <td>66.0</td>\n",
       "      <td>360.0</td>\n",
       "      <td>1.0</td>\n",
       "      <td>Urban</td>\n",
       "      <td>Y</td>\n",
       "    </tr>\n",
       "    <tr>\n",
       "      <th>3</th>\n",
       "      <td>Male</td>\n",
       "      <td>Yes</td>\n",
       "      <td>0</td>\n",
       "      <td>Not Graduate</td>\n",
       "      <td>No</td>\n",
       "      <td>2583</td>\n",
       "      <td>2358.0</td>\n",
       "      <td>120.0</td>\n",
       "      <td>360.0</td>\n",
       "      <td>1.0</td>\n",
       "      <td>Urban</td>\n",
       "      <td>Y</td>\n",
       "    </tr>\n",
       "    <tr>\n",
       "      <th>4</th>\n",
       "      <td>Male</td>\n",
       "      <td>No</td>\n",
       "      <td>0</td>\n",
       "      <td>Graduate</td>\n",
       "      <td>No</td>\n",
       "      <td>6000</td>\n",
       "      <td>0.0</td>\n",
       "      <td>141.0</td>\n",
       "      <td>360.0</td>\n",
       "      <td>1.0</td>\n",
       "      <td>Urban</td>\n",
       "      <td>Y</td>\n",
       "    </tr>\n",
       "  </tbody>\n",
       "</table>\n",
       "</div>"
      ],
      "text/plain": [
       "  Gender Married Dependents     Education Self_Employed  ApplicantIncome  \\\n",
       "0   Male      No          0      Graduate            No             5849   \n",
       "1   Male     Yes          1      Graduate            No             4583   \n",
       "2   Male     Yes          0      Graduate           Yes             3000   \n",
       "3   Male     Yes          0  Not Graduate            No             2583   \n",
       "4   Male      No          0      Graduate            No             6000   \n",
       "\n",
       "   CoapplicantIncome  LoanAmount  Loan_Amount_Term  Credit_History  \\\n",
       "0                0.0         NaN             360.0             1.0   \n",
       "1             1508.0       128.0             360.0             1.0   \n",
       "2                0.0        66.0             360.0             1.0   \n",
       "3             2358.0       120.0             360.0             1.0   \n",
       "4                0.0       141.0             360.0             1.0   \n",
       "\n",
       "  Property_Area Loan_Status  \n",
       "0         Urban           Y  \n",
       "1         Rural           N  \n",
       "2         Urban           Y  \n",
       "3         Urban           Y  \n",
       "4         Urban           Y  "
      ]
     },
     "execution_count": 352,
     "metadata": {},
     "output_type": "execute_result"
    }
   ],
   "source": [
    "df = pd.read_csv(\"data.csv\")\n",
    "df.head()"
   ]
  },
  {
   "cell_type": "markdown",
   "id": "0dfdd2d4",
   "metadata": {},
   "source": [
    "### checking the features in the dataset"
   ]
  },
  {
   "cell_type": "code",
   "execution_count": 353,
   "id": "f73cb49f",
   "metadata": {},
   "outputs": [
    {
     "data": {
      "text/plain": [
       "Index(['Gender', 'Married', 'Dependents', 'Education', 'Self_Employed',\n",
       "       'ApplicantIncome', 'CoapplicantIncome', 'LoanAmount',\n",
       "       'Loan_Amount_Term', 'Credit_History', 'Property_Area', 'Loan_Status'],\n",
       "      dtype='object')"
      ]
     },
     "execution_count": 353,
     "metadata": {},
     "output_type": "execute_result"
    }
   ],
   "source": [
    "df.columns"
   ]
  },
  {
   "cell_type": "markdown",
   "id": "90d5ce65",
   "metadata": {},
   "source": [
    "### checking the missing values"
   ]
  },
  {
   "cell_type": "code",
   "execution_count": 354,
   "id": "e0d67633",
   "metadata": {},
   "outputs": [
    {
     "name": "stdout",
     "output_type": "stream",
     "text": [
      "<class 'pandas.core.frame.DataFrame'>\n",
      "RangeIndex: 614 entries, 0 to 613\n",
      "Data columns (total 12 columns):\n",
      " #   Column             Non-Null Count  Dtype  \n",
      "---  ------             --------------  -----  \n",
      " 0   Gender             601 non-null    object \n",
      " 1   Married            611 non-null    object \n",
      " 2   Dependents         599 non-null    object \n",
      " 3   Education          614 non-null    object \n",
      " 4   Self_Employed      582 non-null    object \n",
      " 5   ApplicantIncome    614 non-null    int64  \n",
      " 6   CoapplicantIncome  614 non-null    float64\n",
      " 7   LoanAmount         592 non-null    float64\n",
      " 8   Loan_Amount_Term   600 non-null    float64\n",
      " 9   Credit_History     564 non-null    float64\n",
      " 10  Property_Area      614 non-null    object \n",
      " 11  Loan_Status        614 non-null    object \n",
      "dtypes: float64(4), int64(1), object(7)\n",
      "memory usage: 57.7+ KB\n"
     ]
    }
   ],
   "source": [
    "df.info()"
   ]
  },
  {
   "cell_type": "code",
   "execution_count": 355,
   "id": "2ec04cc1",
   "metadata": {},
   "outputs": [
    {
     "data": {
      "text/plain": [
       "Gender               13\n",
       "Married               3\n",
       "Dependents           15\n",
       "Education             0\n",
       "Self_Employed        32\n",
       "ApplicantIncome       0\n",
       "CoapplicantIncome     0\n",
       "LoanAmount           22\n",
       "Loan_Amount_Term     14\n",
       "Credit_History       50\n",
       "Property_Area         0\n",
       "Loan_Status           0\n",
       "dtype: int64"
      ]
     },
     "execution_count": 355,
     "metadata": {},
     "output_type": "execute_result"
    }
   ],
   "source": [
    "df.isnull().sum()"
   ]
  },
  {
   "cell_type": "markdown",
   "id": "045007b2",
   "metadata": {},
   "source": [
    "### Filling the missing values in dataset"
   ]
  },
  {
   "cell_type": "code",
   "execution_count": 356,
   "id": "2fdfdb40",
   "metadata": {},
   "outputs": [],
   "source": [
    "df['Gender'] = df.Gender.fillna(df.Gender.mode()[0])\n",
    "df['Married'] = df.Married.fillna(df.Married.mode()[0])\n",
    "df['Dependents'] = df.Dependents.fillna(df.Dependents.mode()[0])\n",
    "df['Self_Employed'] = df.Self_Employed.fillna(df.Self_Employed.mode()[0])\n",
    "df['LoanAmount'] = df.LoanAmount.fillna(df.LoanAmount.mean())\n",
    "df['Loan_Amount_Term'] = df.Loan_Amount_Term.fillna(df.Loan_Amount_Term.mean())\n",
    "df['Credit_History'] = df.Credit_History.fillna(df.Credit_History.mean())"
   ]
  },
  {
   "cell_type": "code",
   "execution_count": 357,
   "id": "a2cc77d1",
   "metadata": {},
   "outputs": [
    {
     "data": {
      "text/plain": [
       "Gender               0\n",
       "Married              0\n",
       "Dependents           0\n",
       "Education            0\n",
       "Self_Employed        0\n",
       "ApplicantIncome      0\n",
       "CoapplicantIncome    0\n",
       "LoanAmount           0\n",
       "Loan_Amount_Term     0\n",
       "Credit_History       0\n",
       "Property_Area        0\n",
       "Loan_Status          0\n",
       "dtype: int64"
      ]
     },
     "execution_count": 357,
     "metadata": {},
     "output_type": "execute_result"
    }
   ],
   "source": [
    "df.isnull().sum()"
   ]
  },
  {
   "cell_type": "code",
   "execution_count": 358,
   "id": "309c21aa",
   "metadata": {},
   "outputs": [
    {
     "name": "stderr",
     "output_type": "stream",
     "text": [
      "C:\\Users\\Awais Nayyar\\AppData\\Local\\Temp\\ipykernel_8076\\4003964133.py:1: FutureWarning: The default value of numeric_only in DataFrame.corr is deprecated. In a future version, it will default to False. Select only valid columns or specify the value of numeric_only to silence this warning.\n",
      "  matrix = df.corr()\n"
     ]
    },
    {
     "data": {
      "image/png": "[encoded data removed]",
      "text/plain": [
       "<Figure size 600x900 with 2 Axes>"
      ]
     },
     "metadata": {},
     "output_type": "display_data"
    }
   ],
   "source": [
    "matrix = df.corr()\n",
    "plt.figure(figsize=(6,9))\n",
    "sns.heatmap(data=matrix, vmax=.8, square=True, cmap='BuPu', annot=True)\n",
    "plt.show()"
   ]
  },
  {
   "cell_type": "markdown",
   "id": "aa92f2a2",
   "metadata": {},
   "source": [
    "### splitting the dataset to Train and Test data"
   ]
  },
  {
   "cell_type": "code",
   "execution_count": 359,
   "id": "abfa7a6d",
   "metadata": {},
   "outputs": [],
   "source": [
    "X = df.drop('Loan_Status', axis=1)"
   ]
  },
  {
   "cell_type": "code",
   "execution_count": 360,
   "id": "fa10c5aa",
   "metadata": {},
   "outputs": [],
   "source": [
    "y = df['Loan_Status']"
   ]
  },
  {
   "cell_type": "code",
   "execution_count": 361,
   "id": "a8a8baa3",
   "metadata": {},
   "outputs": [],
   "source": [
    "from sklearn.model_selection import train_test_split"
   ]
  },
  {
   "cell_type": "code",
   "execution_count": 362,
   "id": "ffc37199",
   "metadata": {},
   "outputs": [],
   "source": [
    "X_train, X_test, y_train, y_test = train_test_split(X, y, test_size=0.2, random_state=54)"
   ]
  },
  {
   "cell_type": "markdown",
   "id": "8e019351",
   "metadata": {},
   "source": [
    "### Encoding Ordinal Categorical variables"
   ]
  },
  {
   "cell_type": "code",
   "execution_count": 363,
   "id": "10f8df76",
   "metadata": {},
   "outputs": [],
   "source": [
    "cat_train_ordinal = X_train.loc[:, ['Education', 'Self_Employed', 'Property_Area']]\n",
    "cat_test_ordinal = X_test.loc[:, ['Education', 'Self_Employed', 'Property_Area']]"
   ]
  },
  {
   "cell_type": "code",
   "execution_count": 364,
   "id": "3e83926c",
   "metadata": {},
   "outputs": [],
   "source": [
    "from sklearn.preprocessing import OneHotEncoder, OrdinalEncoder, LabelEncoder"
   ]
  },
  {
   "cell_type": "code",
   "execution_count": 365,
   "id": "122b39f3",
   "metadata": {},
   "outputs": [],
   "source": [
    "oe = OrdinalEncoder(categories=[['Not Graduate', 'Graduate'], ['No', 'Yes'], ['Urban', 'Semiurban', 'Rural']], dtype=np.int8)"
   ]
  },
  {
   "cell_type": "code",
   "execution_count": 366,
   "id": "2f8a38cb",
   "metadata": {},
   "outputs": [],
   "source": [
    "arr_cat_train_ordinal = oe.fit_transform(cat_train_ordinal)\n",
    "arr_cat_test_ordinal = oe.transform(cat_test_ordinal) #we only transform the test data "
   ]
  },
  {
   "cell_type": "markdown",
   "id": "032ce963",
   "metadata": {},
   "source": [
    "### Encoding Nominal categorical variables"
   ]
  },
  {
   "cell_type": "code",
   "execution_count": 367,
   "id": "bd976429",
   "metadata": {},
   "outputs": [],
   "source": [
    "cat_train_nominal = X_train.loc[:, ['Gender', 'Married', 'Dependents']]\n",
    "cat_test_nominal = X_test.loc[:, ['Gender', 'Married', 'Dependents']]"
   ]
  },
  {
   "cell_type": "code",
   "execution_count": 368,
   "id": "c6271c34",
   "metadata": {
    "scrolled": false
   },
   "outputs": [
    {
     "name": "stderr",
     "output_type": "stream",
     "text": [
      "C:\\Users\\Awais Nayyar\\AppData\\Local\\Programs\\Python\\Python311\\Lib\\site-packages\\sklearn\\preprocessing\\_encoders.py:868: FutureWarning: `sparse` was renamed to `sparse_output` in version 1.2 and will be removed in 1.4. `sparse_output` is ignored unless you leave `sparse` to its default value.\n",
      "  warnings.warn(\n"
     ]
    }
   ],
   "source": [
    "oh = OneHotEncoder(drop='first', sparse=False, dtype=np.int32)\n",
    "arr_cat_train_nominal = oh.fit_transform(cat_train_nominal)\n",
    "arr_cat_test_nominal = oh.transform(cat_test_nominal)\n"
   ]
  },
  {
   "cell_type": "code",
   "execution_count": 369,
   "id": "8a806892",
   "metadata": {},
   "outputs": [],
   "source": [
    "encoded_column_names = ['Gender', 'Married', 'Dependents', 'Education', 'Self_Employed', 'Property_Area']\n",
    "df_encoded_train_ordinal = pd.DataFrame(arr_cat_train_ordinal, columns=['Education', 'Self_Employed', 'Property_Area'])\n",
    "df_encoded_test_ordinal = pd.DataFrame(arr_cat_test_ordinal, columns=['Education', 'Self_Employed', 'Property_Area'])\n",
    "\n",
    "df_encoded_train_nominal = pd.DataFrame(arr_cat_train_nominal, columns=['Gender', 'Married', 'Dependents_1', 'Dependents_2', 'Dependents_3+'])\n",
    "df_encoded_test_nominal = pd.DataFrame(arr_cat_test_nominal, columns=['Gender', 'Married', 'Dependents_1', 'Dependents_2', 'Dependents_3+'])\n",
    "\n",
    "X_encoded_train = np.hstack([df_encoded_train_nominal, df_encoded_train_ordinal])\n",
    "X_encoded_test = np.hstack([df_encoded_test_nominal, df_encoded_test_ordinal])\n",
    "# df_encoded_train = pd.concat([df_encoded_train_nominal, df_encoded_train_ordinal], axis=1)\n",
    "# df_encoded_test = pd.concat([df_encoded_test_nominal, df_encoded_test_ordinal], axis=1)"
   ]
  },
  {
   "cell_type": "code",
   "execution_count": 370,
   "id": "843ada6d",
   "metadata": {},
   "outputs": [],
   "source": [
    "X_train_without_cat = X_train.drop(encoded_column_names, axis=1) # removing categorical columns from Dataframe\n",
    "X_test_without_cat = X_test.drop(encoded_column_names, axis=1) # removing categorical columns from Dataframe"
   ]
  },
  {
   "cell_type": "code",
   "execution_count": 371,
   "id": "38ad215d",
   "metadata": {},
   "outputs": [],
   "source": [
    "X_train_arr = np.hstack([X_train_without_cat, X_encoded_train])\n",
    "X_test_arr= np.hstack([X_test_without_cat, X_encoded_test])"
   ]
  },
  {
   "cell_type": "code",
   "execution_count": 372,
   "id": "da42fdb0",
   "metadata": {},
   "outputs": [],
   "source": [
    "X_train_df = pd.DataFrame(X_train_arr, columns=['ApplicantIncome','CoapplicantIncome','LoanAmount','Loan_Amount_Term','Credit_History', 'Gender', 'Married', 'Dependents_1','Dependents_2','Dependents_3+', 'Education', 'Self_Employed', 'Property_Area'])\n",
    "X_test_df = pd.DataFrame(X_test_arr, columns=['ApplicantIncome','CoapplicantIncome','LoanAmount','Loan_Amount_Term','Credit_History', 'Gender', 'Married', 'Dependents_1','Dependents_2','Dependents_3+', 'Education', 'Self_Employed', 'Property_Area'])"
   ]
  },
  {
   "cell_type": "markdown",
   "id": "5ab60b92",
   "metadata": {},
   "source": [
    "### Encoding target variables"
   ]
  },
  {
   "cell_type": "code",
   "execution_count": 373,
   "id": "db77b548",
   "metadata": {},
   "outputs": [],
   "source": [
    "le = LabelEncoder()\n",
    "y_train = le.fit_transform(y_train)\n",
    "y_test = le.transform(y_test)"
   ]
  },
  {
   "cell_type": "markdown",
   "id": "c89d592b",
   "metadata": {},
   "source": [
    "### Feature Selection"
   ]
  },
  {
   "cell_type": "code",
   "execution_count": 374,
   "id": "6c03a185",
   "metadata": {},
   "outputs": [],
   "source": [
    "from sklearn.feature_selection import SelectKBest\n",
    "from sklearn.feature_selection import chi2"
   ]
  },
  {
   "cell_type": "code",
   "execution_count": 375,
   "id": "d5e13bf8",
   "metadata": {},
   "outputs": [
    {
     "name": "stdout",
     "output_type": "stream",
     "text": [
      "Index(['ApplicantIncome', 'CoapplicantIncome', 'LoanAmount',\n",
      "       'Loan_Amount_Term', 'Credit_History', 'Married', 'Dependents_2',\n",
      "       'Dependents_3+'],\n",
      "      dtype='object')\n"
     ]
    }
   ],
   "source": [
    "selector = SelectKBest(score_func=chi2, k=8)  # Select top 8 features\n",
    "X_train_new = selector.fit_transform(X_train_df, y_train)\n",
    "X_test_new = selector.transform(X_test_df)\n",
    "\n",
    "# Get the selected feature indices\n",
    "selected_indices = selector.get_support(indices=True)\n",
    "\n",
    "# Get the selected feature names\n",
    "selected_train_features = X_train_df.columns[selected_indices]\n",
    "selected_test_features = X_test_df.columns[selected_indices]\n",
    "\n",
    "#Print the selected feature names\n",
    "print(selected_train_features)\n"
   ]
  },
  {
   "cell_type": "code",
   "execution_count": 376,
   "id": "fc37775a",
   "metadata": {},
   "outputs": [],
   "source": [
    "df_selected_train_features = X_train_df.loc[:, selected_train_features]\n",
    "df_selected_test_features = X_test_df.loc[:, selected_test_features]"
   ]
  },
  {
   "cell_type": "code",
   "execution_count": 381,
   "id": "ca77c46c",
   "metadata": {},
   "outputs": [],
   "source": [
    "#converting to pytorch tensors\n",
    "X_train_tensor = torch.tensor(df_selected_train_features.values, dtype=torch.float32)\n",
    "y_train_tensor = torch.tensor(y_train, dtype=torch.float32).view(-1, 1)  # Reshape y_train to match the model output\n",
    "X_test_tensor = torch.tensor(df_selected_test_features.values, dtype=torch.float32)\n",
    "y_test_tensor = torch.tensor(y_test, dtype=torch.float32).view(-1, 1)  # Reshape y_test to match the model output\n"
   ]
  },
  {
   "cell_type": "markdown",
   "id": "2c008736",
   "metadata": {},
   "source": [
    "### Simple neural network"
   ]
  },
  {
   "cell_type": "code",
   "execution_count": 382,
   "id": "838b0d33",
   "metadata": {},
   "outputs": [
    {
     "name": "stdout",
     "output_type": "stream",
     "text": [
      "Simple Model Accuracy: 0.7154471278190613\n"
     ]
    }
   ],
   "source": [
    "class SimpleNN(nn.Module):\n",
    "    def __init__(self, input_size):\n",
    "        super(SimpleNN, self).__init__()\n",
    "        self.fc1 = nn.Linear(input_size, 1)\n",
    "\n",
    "    def forward(self, x):\n",
    "        x = torch.sigmoid(self.fc1(x))\n",
    "        return x\n",
    "\n",
    "# Define your model\n",
    "input_size = X_train_tensor.shape[1]\n",
    "simple_model = SimpleNN(input_size)\n",
    "\n",
    "# Define loss and optimizer\n",
    "loss_fn = nn.BCELoss()  # Binary Cross-Entropy Loss for binary classification\n",
    "optimizer = optim.SGD(simple_model.parameters(), lr=0.01)\n",
    "\n",
    "# Training loop\n",
    "for epoch in range(10):\n",
    "    optimizer.zero_grad()\n",
    "    preds = simple_model(X_train_tensor)\n",
    "    loss = loss_fn(preds, y_train_tensor)\n",
    "    loss.backward()\n",
    "    optimizer.step()\n",
    "\n",
    "# Evaluation\n",
    "simple_model.eval()\n",
    "with torch.no_grad():\n",
    "    predictions = (simple_model(X_test_tensor) >= 0.5).float()  # Apply a threshold of 0.5 for binary classification\n",
    "    accuracy = (predictions == y_test_tensor).float().mean()\n",
    "    print(f\"Simple Model Accuracy: {accuracy.item()}\")\n",
    "#     print(y_test_tensor)"
   ]
  },
  {
   "cell_type": "markdown",
   "id": "9df0111c",
   "metadata": {},
   "source": [
    "### Neural Network with 2 hidden layers"
   ]
  },
  {
   "cell_type": "code",
   "execution_count": 384,
   "id": "98faaea8",
   "metadata": {},
   "outputs": [
    {
     "name": "stdout",
     "output_type": "stream",
     "text": [
      "Two Hidden Layer Model Accuracy: 0.7154471278190613\n"
     ]
    }
   ],
   "source": [
    "class TwoHiddenLayerNN(nn.Module):\n",
    "    def __init__(self, input_size):\n",
    "        super(TwoHiddenLayerNN, self).__init__()\n",
    "        self.fc1 = nn.Linear(input_size, 32)  # First hidden layer with 32 neurons\n",
    "        self.fc2 = nn.Linear(32, 16)  # Second hidden layer with 16 neurons\n",
    "        self.fc3 = nn.Linear(16, 1)  # Output layer with 1 neuron\n",
    "\n",
    "    def forward(self, x):\n",
    "        x = torch.relu(self.fc1(x))  # we can also try other activation functions like Tanh or Sigmoid\n",
    "        x = torch.relu(self.fc2(x))\n",
    "        x = torch.sigmoid(self.fc3(x))\n",
    "        return x\n",
    "\n",
    "# Define your model\n",
    "input_size = X_train_tensor.shape[1]\n",
    "two_hidden_model = TwoHiddenLayerNN(input_size)\n",
    "\n",
    "# Define loss and optimizer\n",
    "loss_fn = nn.BCELoss()  # Binary Cross-Entropy Loss for binary classification\n",
    "optimizer = optim.Adam(two_hidden_model.parameters(), lr=0.001)  # Using Adam optimizer\n",
    "\n",
    "# Training loop\n",
    "for epoch in range(10):\n",
    "    optimizer.zero_grad()\n",
    "    preds = two_hidden_model(X_train_tensor)\n",
    "    loss = loss_fn(preds, y_train_tensor)\n",
    "    loss.backward()\n",
    "    optimizer.step()\n",
    "\n",
    "# Evaluation\n",
    "two_hidden_model.eval()\n",
    "with torch.no_grad():\n",
    "    predictions = (two_hidden_model(X_test_tensor) >= 0.5).float()  # Apply a threshold of 0.5 for binary classification\n",
    "    accuracy = (predictions == y_test_tensor).float().mean()\n",
    "    print(f\"Two Hidden Layer Model Accuracy: {accuracy.item()}\")\n"
   ]
  },
  {
   "cell_type": "code",
   "execution_count": null,
   "id": "38a0daab",
   "metadata": {},
   "outputs": [],
   "source": []
  }
 ],
 "metadata": {
  "kernelspec": {
   "display_name": "Python 3 (ipykernel)",
   "language": "python",
   "name": "python3"
  },
  "language_info": {
   "codemirror_mode": {
    "name": "ipython",
    "version": 3
   },
   "file_extension": ".py",
   "mimetype": "text/x-python",
   "name": "python",
   "nbconvert_exporter": "python",
   "pygments_lexer": "ipython3",
   "version": "3.11.0"
  }
 },
 "nbformat": 4,
 "nbformat_minor": 5
}
